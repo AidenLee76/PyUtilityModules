{
 "cells": [
  {
   "cell_type": "code",
   "execution_count": 2,
   "metadata": {},
   "outputs": [],
   "source": []
  },
  {
   "cell_type": "code",
   "execution_count": 3,
   "metadata": {},
   "outputs": [],
   "source": [
    "import struct\n",
    "from mayavi import mlab\n",
    "import pandas  as pd\n",
    "import numpy as np\n",
    "\n",
    "# data_path = r'D:\\01_DEV\\Python\\3DAnalysis\\data\\Unit_0_0_1.bin'\n",
    "data_path = r'D:\\01_DEV\\Python\\3DAnalysis\\data\\Chip_323_124.dat'\n",
    "\n",
    "struct_fmt = 'iifii'\n",
    "\n",
    "float_size = struct.calcsize('f')\n",
    "\n",
    "with open(data_path, 'rb') as file:\n",
    "    \n",
    "    data = file.read(struct.calcsize(struct_fmt))\n",
    "\n",
    "    width, height, depth, roi_cnt, img2d = struct.unpack(struct_fmt, data)\n",
    "\n",
    "    if width > 0 and height > 0:\n",
    "\n",
    "        height_fmt = 'f' * width * height\n",
    "        height_data_size = struct.calcsize(height_fmt)\n",
    "        height_data = file.read(height_data_size)\n",
    "\n",
    "        Z = struct.unpack(height_fmt, height_data)\n",
    "        Z = np.array(Z)\n",
    "        Z = Z.reshape(height,width)\n",
    "\n",
    "gap = 5.9\n",
    "X = np.linspace(0, (width-1)*gap, width)\n",
    "Y = np.linspace(0, (height-1)*gap, height)\n",
    "\n",
    "X, Y = np.meshgrid(X, Y)\n"
   ]
  },
  {
   "cell_type": "code",
   "execution_count": 4,
   "metadata": {},
   "outputs": [],
   "source": [
    "from scipy.spatial import Delaunay\n",
    "\n",
    "X1 = X.flatten()\n",
    "Y1 = Y.flatten()\n",
    "Z1 = Z.flatten()\n",
    "\n",
    "# x, y 좌표를 사용하여 2D Delaunay 삼각화를 수행합니다.\n",
    "# 이는 z 값을 높이로 사용하는 3D 서피스를 생성하는 데 사용됩니다.\n",
    "tri = Delaunay(np.vstack((X1, Y1)).T)\n",
    "\n",
    "# Mayavi를 사용하여 시각화합니다.\n",
    "mlab.figure(bgcolor=(1, 1, 1))\n",
    "mlab.triangular_mesh(X1, Y1, Z1, tri.simplices, representation='surface')\n",
    "\n",
    "# 시각화 창을 보여줍니다.\n",
    "mlab.show()"
   ]
  },
  {
   "cell_type": "code",
   "execution_count": 5,
   "metadata": {},
   "outputs": [],
   "source": [
    "\n",
    "mlab.figure(bgcolor=(0, 0, 0))\n",
    "\n",
    "points = mlab.points3d(X, Y, Z,          # x, y, z 좌표 및 스칼라 값으로 z 사용\n",
    "                       mode='point',        # 포인트 모드로 표시\n",
    "                       colormap='Blues', # 색상 맵 지정\n",
    "                       scale_mode='none',   # 모든 포인트에 동일한 스케일 적용\n",
    "                       scale_factor=1)    # 포인트의 크기 설정\n",
    "\n",
    "mlab.show()"
   ]
  },
  {
   "cell_type": "code",
   "execution_count": 18,
   "metadata": {},
   "outputs": [],
   "source": [
    "\n",
    "mlab.figure(bgcolor=(0, 0, 0))\n",
    "mlab.surf(X, Y, Z)\n",
    "\n",
    "mlab.colorbar(title='Z Height', orientation='vertical')\n",
    "\n",
    "mlab.show()"
   ]
  },
  {
   "cell_type": "code",
   "execution_count": null,
   "metadata": {},
   "outputs": [],
   "source": [
    "import matplotlib.pyplot as plt\n",
    "from mpl_toolkits.mplot3d import Axes3D\n",
    "import numpy as np\n",
    "\n",
    "fig = plt.figure()\n",
    "ax = fig.add_subplot(111, projection='3d')\n",
    "ax.scatter(X, Y, Z)\n",
    "plt.show()"
   ]
  }
 ],
 "metadata": {
  "kernelspec": {
   "display_name": "jid2m",
   "language": "python",
   "name": "python3"
  },
  "language_info": {
   "codemirror_mode": {
    "name": "ipython",
    "version": 3
   },
   "file_extension": ".py",
   "mimetype": "text/x-python",
   "name": "python",
   "nbconvert_exporter": "python",
   "pygments_lexer": "ipython3",
   "version": "3.8.18"
  }
 },
 "nbformat": 4,
 "nbformat_minor": 2
}
